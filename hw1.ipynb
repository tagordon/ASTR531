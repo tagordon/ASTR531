{
 "cells": [
  {
   "cell_type": "code",
   "execution_count": 9,
   "metadata": {},
   "outputs": [],
   "source": [
    "import numpy as np\n",
    "from scipy.optimize import minimize\n",
    "import astropy.constants as ac\n",
    "import scipy.constants as c"
   ]
  },
  {
   "cell_type": "code",
   "execution_count": 22,
   "metadata": {},
   "outputs": [
    {
     "name": "stdout",
     "output_type": "stream",
     "text": [
      "Absolute Magnitude of Tau Sco: -2.99\n"
     ]
    }
   ],
   "source": [
    "absolute_mag = lambda m, d: m + 5 - 5*np.log10(d)\n",
    "print(\"Absolute Magnitude of Tau Sco: {:.2f}\".format(absolute_mag(2.8, 470*c.light_year/c.parsec)))"
   ]
  },
  {
   "cell_type": "code",
   "execution_count": 26,
   "metadata": {},
   "outputs": [
    {
     "name": "stdout",
     "output_type": "stream",
     "text": [
      "Luminosity of Tau Sco: 22698.65\n"
     ]
    }
   ],
   "source": [
    "luminosity = lambda M, bc: 10**((M + bc - 4.74)/(-2.5))\n",
    "print(\"Luminosity of Tau Sco: {:.2f} solar\".format(luminosity(-2.99, -3.16)))"
   ]
  },
  {
   "cell_type": "code",
   "execution_count": 30,
   "metadata": {},
   "outputs": [
    {
     "data": {
      "text/plain": [
       "5.577132336246148"
      ]
     },
     "execution_count": 30,
     "metadata": {},
     "output_type": "execute_result"
    }
   ],
   "source": [
    "radius = lambda L, T: np.sqrt(L*ac.L_sun.value/(4*np.pi*c.sigma*(T**4)))/ac.R_sun.value\n",
    "radius(22698.65, 30000)"
   ]
  },
  {
   "cell_type": "code",
   "execution_count": 32,
   "metadata": {},
   "outputs": [
    {
     "data": {
      "text/plain": [
       "14.00594846824082"
      ]
     },
     "execution_count": 32,
     "metadata": {},
     "output_type": "execute_result"
    }
   ],
   "source": [
    "mass = lambda L: L**(1/3.8)\n",
    "mass(22698)"
   ]
  },
  {
   "cell_type": "code",
   "execution_count": 63,
   "metadata": {},
   "outputs": [
    {
     "name": "stdout",
     "output_type": "stream",
     "text": [
      "Log(g): 4.09\n",
      "Escape Velocity: 979255.98 m/s\n"
     ]
    }
   ],
   "source": [
    "logg = lambda M, R: np.log10(100*c.G*M*ac.M_sun.value/((R*ac.R_sun.value)**2))\n",
    "escape_velocity = lambda M, R: np.sqrt(2*c.G*M*ac.M_sun.value/(R*ac.R_sun.value))\n",
    "print(\"Log(g): {:.2f}\\nEscape Velocity: {:.2f} m/s\".format(logg(14, 5.57), escape_velocity(14, 5.57)))"
   ]
  },
  {
   "cell_type": "code",
   "execution_count": 60,
   "metadata": {},
   "outputs": [
    {
     "name": "stdout",
     "output_type": "stream",
     "text": [
      "Mean density: 0.11 grams per cubic cm\n"
     ]
    }
   ],
   "source": [
    "rho = lambda M, R: 3*M*ac.M_sun.value/(4*np.pi*((R*ac.R_sun.value)**3))*1e-3\n",
    "print(\"Mean density: {:.2f} grams per cubic cm\".format(rho(14, 5.57)))"
   ]
  },
  {
   "cell_type": "code",
   "execution_count": 64,
   "metadata": {},
   "outputs": [
    {
     "name": "stdout",
     "output_type": "stream",
     "text": [
      "1.4098262953659104\n",
      "4.438067627303133\n",
      "617674.7002752088\n"
     ]
    }
   ],
   "source": [
    "print(rho(1, 1))\n",
    "print(logg(1, 1))\n",
    "print(escape_velocity(1, 1))"
   ]
  },
  {
   "cell_type": "code",
   "execution_count": 107,
   "metadata": {},
   "outputs": [],
   "source": [
    "with open('ssmyz47_0200.txt') as file:\n",
    "    i = 0\n",
    "    data = []\n",
    "    for line in file:\n",
    "        if i % 5 == 0:\n",
    "            data.append([float(s) for s in line.split()])\n",
    "        i += 1\n",
    "T = [d[-2] for d in data]\n",
    "P = [d[-1] for d in data]"
   ]
  },
  {
   "cell_type": "code",
   "execution_count": 118,
   "metadata": {},
   "outputs": [
    {
     "data": {
      "text/plain": [
       "(3, 10)"
      ]
     },
     "execution_count": 118,
     "metadata": {},
     "output_type": "execute_result"
    },
    {
     "data": {
      "image/png": "[encoded data removed]",
      "text/plain": [
       "<matplotlib.figure.Figure at 0x111e6c550>"
      ]
     },
     "metadata": {},
     "output_type": "display_data"
    }
   ],
   "source": [
    "import matplotlib.pyplot as pl\n",
    "%matplotlib inline\n",
    "\n",
    "fig = pl.figure(figsize=(10, 10))\n",
    "pl.plot(np.log10(P), np.log10(T), color='k', linewidth=5)\n",
    "pl.xlim(-10, 10)\n",
    "pl.ylim(3, 10)"
   ]
  },
  {
   "cell_type": "code",
   "execution_count": null,
   "metadata": {},
   "outputs": [],
   "source": []
  }
 ],
 "metadata": {
  "kernelspec": {
   "display_name": "Python 3",
   "language": "python",
   "name": "python3"
  },
  "language_info": {
   "codemirror_mode": {
    "name": "ipython",
    "version": 3
   },
   "file_extension": ".py",
   "mimetype": "text/x-python",
   "name": "python",
   "nbconvert_exporter": "python",
   "pygments_lexer": "ipython3",
   "version": "3.6.4"
  }
 },
 "nbformat": 4,
 "nbformat_minor": 2
}
